{
 "cells": [
  {
   "cell_type": "code",
   "execution_count": 1,
   "metadata": {
    "ExecuteTime": {
     "end_time": "2021-11-11T10:54:06.926123Z",
     "start_time": "2021-11-11T10:54:06.842196Z"
    }
   },
   "outputs": [],
   "source": [
    "import requests"
   ]
  },
  {
   "cell_type": "code",
   "execution_count": 2,
   "metadata": {
    "ExecuteTime": {
     "end_time": "2021-11-11T10:54:07.395208Z",
     "start_time": "2021-11-11T10:54:07.389209Z"
    }
   },
   "outputs": [],
   "source": [
    "KONG_HOST_IP = \"localhost\"\n",
    "KONG_PORT = 8001\n",
    "\n",
    "KEYCLOAK_URL = \"http://localhost:8085/auth/\"\n",
    "USERNAME = \"admin\"\n",
    "PASSWORD = 'Pa55w0rd'\n",
    "MASTER_REALM_NAME = \"master\"\n",
    "\n",
    "CLIENT_ID = \"kong_test_client-4\"\n"
   ]
  },
  {
   "cell_type": "code",
   "execution_count": 3,
   "metadata": {
    "ExecuteTime": {
     "end_time": "2021-11-11T10:54:07.928938Z",
     "start_time": "2021-11-11T10:54:07.761390Z"
    }
   },
   "outputs": [],
   "source": [
    "#def clean():\n",
    "response = requests.get(f'http://{KONG_HOST_IP}:{KONG_PORT}/routes')\n",
    "for _id in [e[\"id\"] for e in response.json()[\"data\"]]:\n",
    "    requests.delete(f'http://{KONG_HOST_IP}:{KONG_PORT}/routes/{_id}')\n",
    "response = requests.get(f'http://{KONG_HOST_IP}:{KONG_PORT}/services')\n",
    "for _id in [e[\"id\"] for e in response.json()[\"data\"]]:\n",
    "    requests.delete(f'http://{KONG_HOST_IP}:{KONG_PORT}/services/{_id}')"
   ]
  },
  {
   "cell_type": "markdown",
   "metadata": {},
   "source": [
    "# Create Kong client "
   ]
  },
  {
   "cell_type": "code",
   "execution_count": 4,
   "metadata": {
    "ExecuteTime": {
     "end_time": "2021-11-11T10:54:09.980319Z",
     "start_time": "2021-11-11T10:54:09.813443Z"
    }
   },
   "outputs": [],
   "source": [
    "from keycloak import KeycloakAdmin\n",
    "\n",
    "\n",
    "\n",
    "#%%\n",
    "\n",
    "keycloak_admin = KeycloakAdmin(server_url=KEYCLOAK_URL,\n",
    "                               username=USERNAME,\n",
    "                           password=PASSWORD,\n",
    "                               verify=True)"
   ]
  },
  {
   "cell_type": "code",
   "execution_count": 6,
   "metadata": {
    "ExecuteTime": {
     "end_time": "2021-11-11T11:01:04.250570Z",
     "start_time": "2021-11-11T11:01:04.239568Z"
    }
   },
   "outputs": [],
   "source": [
    "# keycloak_admin.create_client({\n",
    "#  \"clientId\":CLIENT_ID,\n",
    "#  \"name\":CLIENT_ID,\n",
    "#  \"enabled\": True,\n",
    "#  \"redirectUris\":[ \"/front/*\", \"/api/*\" ],\n",
    "#  \"access-type\": \"confidential\"\n",
    "# })"
   ]
  },
  {
   "cell_type": "code",
   "execution_count": 7,
   "metadata": {
    "ExecuteTime": {
     "end_time": "2021-11-11T11:01:09.639174Z",
     "start_time": "2021-11-11T11:01:09.621959Z"
    }
   },
   "outputs": [
    {
     "data": {
      "text/plain": [
       "'2b9bd5f6-3d73-45d8-8b27-9f76763a458d'"
      ]
     },
     "execution_count": 7,
     "metadata": {},
     "output_type": "execute_result"
    }
   ],
   "source": [
    "client_secret_key = \"2b9bd5f6-3d73-45d8-8b27-9f76763a458d\"\n",
    "client_secret_key"
   ]
  },
  {
   "cell_type": "code",
   "execution_count": 8,
   "metadata": {
    "ExecuteTime": {
     "end_time": "2021-11-11T11:20:06.517567Z",
     "start_time": "2021-11-11T11:20:06.501316Z"
    }
   },
   "outputs": [
    {
     "name": "stdout",
     "output_type": "stream",
     "text": [
      "http://keycloak:8080/auth/realms/master/protocol/openid-connect/token/introspect\n",
      "http://keycloak:8080/auth/realms/master/.well-known/openid-configuration\n"
     ]
    }
   ],
   "source": [
    "services = [\n",
    "    {\n",
    "        'name': \"front_service\",\n",
    "        'url': f'http://localhost:8080/',\n",
    "        'path': \"front\"\n",
    "\n",
    "    },\n",
    "        {\n",
    "        'name': \"api_service\",\n",
    "        'url': f'http://localhost/8005',\n",
    "        'path': \"api\"\n",
    "\n",
    "    }\n",
    "]\n",
    "\n",
    "REALM_NAME = \"master\"\n",
    "KEYCLOAK_HOST_IP=\"keycloak\"\n",
    "KEYCLOAK_PORT=8080\n",
    "\n",
    "introspection_url = f'http://{KEYCLOAK_HOST_IP}:{KEYCLOAK_PORT}/auth/realms/{REALM_NAME}/protocol/openid-connect/token/introspect'\n",
    "discovery_url = f'http://{KEYCLOAK_HOST_IP}:{KEYCLOAK_PORT}/auth/realms/{REALM_NAME}/.well-known/openid-configuration'\n",
    "\"http://localhost:8080/auth/realms/master/protocol/openid-connect/token/introspect\"\n",
    "print(introspection_url)\n",
    "print(discovery_url)"
   ]
  },
  {
   "cell_type": "code",
   "execution_count": 9,
   "metadata": {
    "ExecuteTime": {
     "end_time": "2021-11-11T11:20:18.800955Z",
     "start_time": "2021-11-11T11:20:18.717913Z"
    }
   },
   "outputs": [],
   "source": [
    "for service in services:\n",
    "    data = service\n",
    "    \n",
    "    # Create Service\n",
    "    response = requests.post(f'http://{KONG_HOST_IP}:{KONG_PORT}/services', data=data)\n",
    "    created_service_id = response.json()[\"id\"]\n",
    "    \n",
    "    # Create route\n",
    "    data = {\n",
    "        'service.id': f'{created_service_id}',\n",
    "        'paths[]': f'/{service[\"path\"]}',\n",
    "    }\n",
    "\n",
    "    response = requests.post(f'http://{KONG_HOST_IP}:{KONG_PORT}/services/{service[\"name\"]}/routes', data=data)      \n",
    "    # Configure OIDC \n",
    "    data = {\n",
    "        'name': 'oidc',\n",
    "        'config.client_id': f'{CLIENT_ID}',\n",
    "        'config.client_secret': f'{client_secret_key}',\n",
    "        'config.realm': f'{REALM_NAME}',\n",
    "        'config.bearer_only': 'true',\n",
    "        'config.introspection_endpoint':introspection_url,\n",
    "        'config.discovery':discovery_url\n",
    "    }\n",
    "\n",
    "    response = requests.post(f'http://{KONG_HOST_IP}:{KONG_PORT}/services/{created_service_id}/plugins', data=data)"
   ]
  },
  {
   "cell_type": "markdown",
   "metadata": {},
   "source": [
    "# Configure OIDC connect"
   ]
  },
  {
   "cell_type": "code",
   "execution_count": 10,
   "metadata": {
    "ExecuteTime": {
     "end_time": "2021-11-11T11:20:20.548868Z",
     "start_time": "2021-11-11T11:20:20.539868Z"
    }
   },
   "outputs": [
    {
     "data": {
      "text/plain": [
       "'http://localhost:8001/services/a495378a-496d-4681-9465-583aa58750e7/plugins'"
      ]
     },
     "execution_count": 10,
     "metadata": {},
     "output_type": "execute_result"
    }
   ],
   "source": [
    "f\"http://{KONG_HOST_IP}:{KONG_PORT}/services/{created_service_id}/plugins\""
   ]
  },
  {
   "cell_type": "code",
   "execution_count": null,
   "metadata": {},
   "outputs": [],
   "source": []
  }
 ],
 "metadata": {
  "kernelspec": {
   "display_name": "Python 3",
   "language": "python",
   "name": "python3"
  },
  "language_info": {
   "codemirror_mode": {
    "name": "ipython",
    "version": 3
   },
   "file_extension": ".py",
   "mimetype": "text/x-python",
   "name": "python",
   "nbconvert_exporter": "python",
   "pygments_lexer": "ipython3",
   "version": "3.8.7"
  },
  "toc": {
   "base_numbering": 1,
   "nav_menu": {},
   "number_sections": true,
   "sideBar": true,
   "skip_h1_title": false,
   "title_cell": "Table of Contents",
   "title_sidebar": "Contents",
   "toc_cell": false,
   "toc_position": {},
   "toc_section_display": true,
   "toc_window_display": false
  }
 },
 "nbformat": 4,
 "nbformat_minor": 2
}
