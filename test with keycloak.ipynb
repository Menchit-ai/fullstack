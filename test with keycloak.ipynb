{
 "cells": [
  {
   "cell_type": "code",
   "execution_count": 1,
   "id": "brave-tunisia",
   "metadata": {
    "ExecuteTime": {
     "end_time": "2021-11-11T14:42:18.721060Z",
     "start_time": "2021-11-11T14:42:18.638527Z"
    }
   },
   "outputs": [],
   "source": [
    "import requests"
   ]
  },
  {
   "cell_type": "code",
   "execution_count": 2,
   "id": "social-strap",
   "metadata": {
    "ExecuteTime": {
     "end_time": "2021-11-11T14:42:19.033015Z",
     "start_time": "2021-11-11T14:42:19.014833Z"
    }
   },
   "outputs": [],
   "source": [
    "KONG_HOST_IP = \"localhost\"\n",
    "KONG_PORT = 8001\n",
    "\n",
    "KEYCLOAK_URL = \"http://localhost:8085/auth/\"\n",
    "USERNAME = \"admin\"\n",
    "PASSWORD = 'Pa55w0rd'\n",
    "MASTER_REALM_NAME = \"master\"\n",
    "\n",
    "CLIENT_ID = \"kong_test_client-4\""
   ]
  },
  {
   "cell_type": "code",
   "execution_count": 3,
   "id": "flying-killing",
   "metadata": {
    "ExecuteTime": {
     "end_time": "2021-11-11T14:42:19.499476Z",
     "start_time": "2021-11-11T14:42:19.428818Z"
    }
   },
   "outputs": [],
   "source": [
    "from keycloak import KeycloakAdmin"
   ]
  },
  {
   "cell_type": "code",
   "execution_count": 13,
   "id": "sunset-complex",
   "metadata": {
    "ExecuteTime": {
     "end_time": "2021-11-11T14:46:17.651866Z",
     "start_time": "2021-11-11T14:46:17.495921Z"
    }
   },
   "outputs": [
    {
     "data": {
      "text/plain": [
       "'6188bf38-e8f2-453f-a1ae-8debf77a4e43'"
      ]
     },
     "execution_count": 13,
     "metadata": {},
     "output_type": "execute_result"
    }
   ],
   "source": [
    "keycloak_admin = KeycloakAdmin(server_url=KEYCLOAK_URL,\n",
    "                                   username=USERNAME,\n",
    "                               password=PASSWORD,\n",
    "                                   verify=True)\n",
    "# delete client kong\n",
    "for client in keycloak_admin.get_clients():\n",
    "    if client[\"name\"] == \"kong\": kong_id = client[\"id\"]\n",
    "try :keycloak_admin.delete_client(kong_id)\n",
    "except: pass\n",
    "\n",
    "keycloak_admin.create_client({\n",
    " \"clientId\":\"kong\",\n",
    " \"name\":\"kong\",\n",
    " \"enabled\": True,\n",
    " \"redirectUris\":[ \"/front/*\", \"/api/*\" ]\n",
    "})\n",
    "\n",
    "for client in keycloak_admin.get_clients():\n",
    "    if client[\"name\"] == \"kong\": kong_id = client[\"id\"]\n",
    "kong_id"
   ]
  },
  {
   "cell_type": "code",
   "execution_count": 14,
   "id": "insured-porcelain",
   "metadata": {
    "ExecuteTime": {
     "end_time": "2021-11-11T14:46:18.710057Z",
     "start_time": "2021-11-11T14:46:18.691128Z"
    }
   },
   "outputs": [
    {
     "data": {
      "text/plain": [
       "'1bf93f51-4e70-4adc-aa70-511e6bd0ffe9'"
      ]
     },
     "execution_count": 14,
     "metadata": {},
     "output_type": "execute_result"
    }
   ],
   "source": [
    "kong_key = keycloak_admin.generate_client_secrets(kong_id)[\"value\"]\n",
    "kong_key"
   ]
  },
  {
   "cell_type": "code",
   "execution_count": 15,
   "id": "proof-oracle",
   "metadata": {
    "ExecuteTime": {
     "end_time": "2021-11-11T14:46:19.365033Z",
     "start_time": "2021-11-11T14:46:19.342034Z"
    }
   },
   "outputs": [
    {
     "data": {
      "text/plain": [
       "True"
      ]
     },
     "execution_count": 15,
     "metadata": {},
     "output_type": "execute_result"
    }
   ],
   "source": [
    "kong_created = False\n",
    "for client in keycloak_admin.get_clients():\n",
    "    if client[\"name\"] == \"kong\": kong_created = True\n",
    "kong_created"
   ]
  },
  {
   "cell_type": "code",
   "execution_count": null,
   "id": "charming-skating",
   "metadata": {},
   "outputs": [],
   "source": []
  }
 ],
 "metadata": {
  "kernelspec": {
   "display_name": "Python 3",
   "language": "python",
   "name": "python3"
  },
  "language_info": {
   "codemirror_mode": {
    "name": "ipython",
    "version": 3
   },
   "file_extension": ".py",
   "mimetype": "text/x-python",
   "name": "python",
   "nbconvert_exporter": "python",
   "pygments_lexer": "ipython3",
   "version": "3.8.5"
  },
  "toc": {
   "base_numbering": 1,
   "nav_menu": {},
   "number_sections": true,
   "sideBar": true,
   "skip_h1_title": false,
   "title_cell": "Table of Contents",
   "title_sidebar": "Contents",
   "toc_cell": false,
   "toc_position": {},
   "toc_section_display": true,
   "toc_window_display": false
  }
 },
 "nbformat": 4,
 "nbformat_minor": 5
}
