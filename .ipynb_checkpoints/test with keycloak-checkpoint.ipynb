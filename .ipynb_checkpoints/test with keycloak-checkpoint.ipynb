{
 "cells": [
  {
   "cell_type": "code",
   "execution_count": 1,
   "id": "brave-tunisia",
   "metadata": {
    "ExecuteTime": {
     "end_time": "2021-11-11T14:01:37.875716Z",
     "start_time": "2021-11-11T14:01:37.797715Z"
    }
   },
   "outputs": [],
   "source": [
    "import requests"
   ]
  },
  {
   "cell_type": "code",
   "execution_count": 2,
   "id": "social-strap",
   "metadata": {
    "ExecuteTime": {
     "end_time": "2021-11-11T14:01:37.891717Z",
     "start_time": "2021-11-11T14:01:37.876718Z"
    }
   },
   "outputs": [],
   "source": [
    "KONG_HOST_IP = \"localhost\"\n",
    "KONG_PORT = 8001\n",
    "\n",
    "KEYCLOAK_URL = \"http://localhost:8085/auth/\"\n",
    "USERNAME = \"admin\"\n",
    "PASSWORD = 'Pa55w0rd'\n",
    "MASTER_REALM_NAME = \"master\"\n",
    "\n",
    "CLIENT_ID = \"kong_test_client-4\""
   ]
  },
  {
   "cell_type": "code",
   "execution_count": 3,
   "id": "flying-killing",
   "metadata": {
    "ExecuteTime": {
     "end_time": "2021-11-11T14:01:37.971716Z",
     "start_time": "2021-11-11T14:01:37.893716Z"
    }
   },
   "outputs": [],
   "source": [
    "from keycloak import KeycloakAdmin"
   ]
  },
  {
   "cell_type": "code",
   "execution_count": 12,
   "id": "sunset-complex",
   "metadata": {
    "ExecuteTime": {
     "end_time": "2021-11-11T14:11:50.391717Z",
     "start_time": "2021-11-11T14:11:50.227938Z"
    }
   },
   "outputs": [
    {
     "data": {
      "text/plain": [
       "'a1af8c65-0c54-4bc3-bc5b-e1a2d66c8f17'"
      ]
     },
     "execution_count": 12,
     "metadata": {},
     "output_type": "execute_result"
    }
   ],
   "source": [
    "keycloak_admin = KeycloakAdmin(server_url=KEYCLOAK_URL,\n",
    "                                   username=USERNAME,\n",
    "                               password=PASSWORD,\n",
    "                                   verify=True)\n",
    "# delete client kong\n",
    "for client in keycloak_admin.get_clients():\n",
    "    if client[\"name\"] == \"kong\": kong_id = client[\"id\"]\n",
    "try :keycloak_admin.delete_client(kong_id)\n",
    "except: pass\n",
    "\n",
    "keycloak_admin.create_client({\n",
    " \"clientId\":\"kong\",\n",
    " \"name\":\"kong\",\n",
    " \"enabled\": True,\n",
    " \"redirectUris\":[ \"/front/*\", \"/api/*\" ],\n",
    " \"publicClient\":False\n",
    "})\n",
    "\n",
    "for client in keycloak_admin.get_clients():\n",
    "    if client[\"name\"] == \"kong\": kong_id = client[\"id\"]\n",
    "kong_id"
   ]
  },
  {
   "cell_type": "code",
   "execution_count": 13,
   "id": "insured-porcelain",
   "metadata": {
    "ExecuteTime": {
     "end_time": "2021-11-11T14:11:50.862447Z",
     "start_time": "2021-11-11T14:11:50.845448Z"
    }
   },
   "outputs": [
    {
     "data": {
      "text/plain": [
       "'c4162994-49a3-47f3-93db-ab5fe1e4b27a'"
      ]
     },
     "execution_count": 13,
     "metadata": {},
     "output_type": "execute_result"
    }
   ],
   "source": [
    "kong_key = keycloak_admin.generate_client_secrets(kong_id)[\"value\"]\n",
    "kong_key"
   ]
  },
  {
   "cell_type": "code",
   "execution_count": null,
   "id": "proof-oracle",
   "metadata": {},
   "outputs": [],
   "source": []
  }
 ],
 "metadata": {
  "kernelspec": {
   "display_name": "Python 3",
   "language": "python",
   "name": "python3"
  },
  "language_info": {
   "codemirror_mode": {
    "name": "ipython",
    "version": 3
   },
   "file_extension": ".py",
   "mimetype": "text/x-python",
   "name": "python",
   "nbconvert_exporter": "python",
   "pygments_lexer": "ipython3",
   "version": "3.8.7"
  },
  "toc": {
   "base_numbering": 1,
   "nav_menu": {},
   "number_sections": true,
   "sideBar": true,
   "skip_h1_title": false,
   "title_cell": "Table of Contents",
   "title_sidebar": "Contents",
   "toc_cell": false,
   "toc_position": {},
   "toc_section_display": true,
   "toc_window_display": false
  }
 },
 "nbformat": 4,
 "nbformat_minor": 5
}
