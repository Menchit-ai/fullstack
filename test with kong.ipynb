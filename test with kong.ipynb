{
 "cells": [
  {
   "cell_type": "code",
   "execution_count": 1,
   "metadata": {
    "ExecuteTime": {
     "end_time": "2021-11-11T12:44:45.344066Z",
     "start_time": "2021-11-11T12:44:45.251171Z"
    }
   },
   "outputs": [],
   "source": [
    "import requests"
   ]
  },
  {
   "cell_type": "code",
   "execution_count": 2,
   "metadata": {
    "ExecuteTime": {
     "end_time": "2021-11-11T12:44:45.359625Z",
     "start_time": "2021-11-11T12:44:45.345627Z"
    }
   },
   "outputs": [],
   "source": [
    "KONG_HOST_IP = \"localhost\"\n",
    "KONG_PORT = 8001\n",
    "\n",
    "KEYCLOAK_URL = \"http://localhost:8085/auth/\"\n",
    "USERNAME = \"admin\"\n",
    "PASSWORD = 'Pa55w0rd'\n",
    "MASTER_REALM_NAME = \"master\"\n",
    "\n",
    "CLIENT_ID = \"kong_test_client-4\"\n"
   ]
  },
  {
   "cell_type": "code",
   "execution_count": 3,
   "metadata": {
    "ExecuteTime": {
     "end_time": "2021-11-11T12:44:45.405387Z",
     "start_time": "2021-11-11T12:44:45.361625Z"
    }
   },
   "outputs": [],
   "source": [
    "#def clean():\n",
    "response = requests.get(f'http://{KONG_HOST_IP}:{KONG_PORT}/routes')\n",
    "for _id in [e[\"id\"] for e in response.json()[\"data\"]]:\n",
    "    requests.delete(f'http://{KONG_HOST_IP}:{KONG_PORT}/routes/{_id}')\n",
    "response = requests.get(f'http://{KONG_HOST_IP}:{KONG_PORT}/services')\n",
    "for _id in [e[\"id\"] for e in response.json()[\"data\"]]:\n",
    "    requests.delete(f'http://{KONG_HOST_IP}:{KONG_PORT}/services/{_id}')"
   ]
  },
  {
   "cell_type": "code",
   "execution_count": 4,
   "metadata": {
    "ExecuteTime": {
     "end_time": "2021-11-11T12:44:45.560767Z",
     "start_time": "2021-11-11T12:44:45.407614Z"
    }
   },
   "outputs": [],
   "source": [
    "from keycloak import KeycloakAdmin\n",
    "\n",
    "\n",
    "\n",
    "#%%\n",
    "\n",
    "keycloak_admin = KeycloakAdmin(server_url=KEYCLOAK_URL,\n",
    "                               username=USERNAME,\n",
    "                           password=PASSWORD,\n",
    "                               verify=True)"
   ]
  },
  {
   "cell_type": "code",
   "execution_count": 5,
   "metadata": {
    "ExecuteTime": {
     "end_time": "2021-11-11T12:44:45.576200Z",
     "start_time": "2021-11-11T12:44:45.562282Z"
    }
   },
   "outputs": [
    {
     "data": {
      "text/plain": [
       "'2b9bd5f6-3d73-45d8-8b27-9f76763a458d'"
      ]
     },
     "execution_count": 5,
     "metadata": {},
     "output_type": "execute_result"
    }
   ],
   "source": [
    "client_secret_key = \"2b9bd5f6-3d73-45d8-8b27-9f76763a458d\"\n",
    "client_secret_key"
   ]
  },
  {
   "cell_type": "code",
   "execution_count": 6,
   "metadata": {
    "ExecuteTime": {
     "end_time": "2021-11-11T12:44:45.652763Z",
     "start_time": "2021-11-11T12:44:45.578902Z"
    }
   },
   "outputs": [
    {
     "name": "stdout",
     "output_type": "stream",
     "text": [
      "http://keycloak:8080/auth/realms/master/protocol/openid-connect/token/introspect\n",
      "http://keycloak:8080/auth/realms/master/.well-known/openid-configuration\n"
     ]
    }
   ],
   "source": [
    "services = [\n",
    "    {\n",
    "        'name': \"front_service\",\n",
    "        'url': f'http://localhost:8080/',\n",
    "        'path': \"front\"\n",
    "\n",
    "    },\n",
    "        {\n",
    "        'name': \"api_service\",\n",
    "        'url': f'http://localhost/8005',\n",
    "        'path': \"api\"\n",
    "\n",
    "    }\n",
    "]\n",
    "\n",
    "REALM_NAME = \"master\"\n",
    "KEYCLOAK_HOST_IP=\"keycloak\"\n",
    "KEYCLOAK_PORT=8080\n",
    "\n",
    "introspection_url = f'http://{KEYCLOAK_HOST_IP}:{KEYCLOAK_PORT}/auth/realms/{REALM_NAME}/protocol/openid-connect/token/introspect'\n",
    "discovery_url = f'http://{KEYCLOAK_HOST_IP}:{KEYCLOAK_PORT}/auth/realms/{REALM_NAME}/.well-known/openid-configuration'\n",
    "\"http://localhost:8080/auth/realms/master/protocol/openid-connect/token/introspect\"\n",
    "print(introspection_url)\n",
    "print(discovery_url)\n",
    "\n",
    "for service in services:\n",
    "    data = service\n",
    "    \n",
    "    # Create Service\n",
    "    response = requests.post(f'http://{KONG_HOST_IP}:{KONG_PORT}/services', data=data)\n",
    "    created_service_id = requests.get(f'http://{KONG_HOST_IP}:{KONG_PORT}/services/'+data[\"name\"]).json()[\"id\"]\n",
    "    \n",
    "    # Create route\n",
    "    data = {\n",
    "        'service.id': f'{created_service_id}',\n",
    "        'paths[]': f'/{service[\"path\"]}',\n",
    "    }\n",
    "\n",
    "    response = requests.post(f'http://{KONG_HOST_IP}:{KONG_PORT}/services/{service[\"name\"]}/routes', data=data)      \n",
    "    # Configure OIDC \n",
    "    data = {\n",
    "        'name': 'oidc',\n",
    "        'config.client_id': f'{CLIENT_ID}',\n",
    "        'config.client_secret': f'{client_secret_key}',\n",
    "        'config.realm': f'{REALM_NAME}',\n",
    "        'config.bearer_only': 'true',\n",
    "        'config.introspection_endpoint':introspection_url,\n",
    "        'config.discovery':discovery_url\n",
    "    }\n",
    "\n",
    "    response = requests.post(f'http://{KONG_HOST_IP}:{KONG_PORT}/services/{created_service_id}/plugins', data=data)"
   ]
  },
  {
   "cell_type": "code",
   "execution_count": 7,
   "metadata": {
    "ExecuteTime": {
     "end_time": "2021-11-11T12:44:45.668030Z",
     "start_time": "2021-11-11T12:44:45.654298Z"
    },
    "run_control": {
     "marked": false
    }
   },
   "outputs": [
    {
     "ename": "SyntaxError",
     "evalue": "invalid syntax (<ipython-input-7-b9d80509aaef>, line 5)",
     "output_type": "error",
     "traceback": [
      "\u001b[1;36m  File \u001b[1;32m\"<ipython-input-7-b9d80509aaef>\"\u001b[1;36m, line \u001b[1;32m5\u001b[0m\n\u001b[1;33m    back ={\u001b[0m\n\u001b[1;37m         ^\u001b[0m\n\u001b[1;31mSyntaxError\u001b[0m\u001b[1;31m:\u001b[0m invalid syntax\n"
     ]
    }
   ],
   "source": [
    "KONG_HOST_IP = \"localhost\"\n",
    "KONG_PORT = 8001\n",
    "\n",
    "services = [\n",
    "    {\n",
    "        'name': 'api_service',\n",
    "        'url': 'http://localhost/8005',\n",
    "        'path': \"api\"\n",
    "    },\n",
    "    {\n",
    "        'name': \"front_service\",\n",
    "        'url': f'http://localhost:8080/',\n",
    "        'path': \"front\"\n",
    "    }\n",
    "]"
   ]
  },
  {
   "cell_type": "code",
   "execution_count": 9,
   "metadata": {
    "ExecuteTime": {
     "end_time": "2021-11-11T12:45:27.257133Z",
     "start_time": "2021-11-11T12:45:27.226166Z"
    }
   },
   "outputs": [
    {
     "name": "stdout",
     "output_type": "stream",
     "text": [
      "front_service already exists !\n",
      "api_service already exists !\n"
     ]
    }
   ],
   "source": [
    "for service in services:\n",
    "    name = service[\"name\"]\n",
    "    if requests.get(f\"http://{KONG_HOST_IP}:{KONG_PORT}/services/{name}\").status_code == 404:\n",
    "        requests.post(f\"http://{KONG_HOST_IP}:{KONG_PORT}/services/\",data = service)\n",
    "        print(name, \"created !\")\n",
    "    else: print(name, \"already exists !\")"
   ]
  },
  {
   "cell_type": "code",
   "execution_count": null,
   "metadata": {},
   "outputs": [],
   "source": []
  }
 ],
 "metadata": {
  "kernelspec": {
   "display_name": "Python 3",
   "language": "python",
   "name": "python3"
  },
  "language_info": {
   "codemirror_mode": {
    "name": "ipython",
    "version": 3
   },
   "file_extension": ".py",
   "mimetype": "text/x-python",
   "name": "python",
   "nbconvert_exporter": "python",
   "pygments_lexer": "ipython3",
   "version": "3.8.7"
  },
  "toc": {
   "base_numbering": 1,
   "nav_menu": {},
   "number_sections": true,
   "sideBar": true,
   "skip_h1_title": false,
   "title_cell": "Table of Contents",
   "title_sidebar": "Contents",
   "toc_cell": false,
   "toc_position": {},
   "toc_section_display": true,
   "toc_window_display": false
  }
 },
 "nbformat": 4,
 "nbformat_minor": 2
}
